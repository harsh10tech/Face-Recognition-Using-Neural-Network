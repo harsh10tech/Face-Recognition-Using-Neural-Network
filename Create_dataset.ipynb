{
 "cells": [
  {
   "cell_type": "markdown",
   "metadata": {},
   "source": [
    "IMPORTING REQUIRED MODULE\n",
    "-\n",
    "- \n",
    "OpenCV - For image manipulation\n",
    "- \n",
    "Numpy - For matrix manipulation\n",
    "- \n",
    "OS - For file handling and directory operations"
   ]
  },
  {
   "cell_type": "code",
   "execution_count": 1,
   "metadata": {},
   "outputs": [],
   "source": [
    "import cv2 as cv # cv2 is openCV\n",
    "import numpy as np\n",
    "import os"
   ]
  },
  {
   "cell_type": "code",
   "execution_count": 23,
   "metadata": {},
   "outputs": [],
   "source": [
    "raw_data = \"../MP SEM3/Raw Data\" # Path of raw data\n",
    "dataset = \"../MP SEM3/Dataset\" # Path of dataset where the processed image will be stored\n",
    "drawing = False\n",
    "ix,iy = -1,-1\n",
    "\n",
    "global pic_name, folder\n",
    "pic_name = 1\n",
    "\n",
    "## Opening face detection module, Haarcascade file saved as xml ##\n",
    "face_cascade = cv.CascadeClassifier(r\"../MP SEM3/haarcascades/haarcascade_frontalface_default.xml\")"
   ]
  },
  {
   "cell_type": "markdown",
   "metadata": {},
   "source": [
    "User defined functions for Manual croping of Images Using mouse cursor\n",
    "-"
   ]
  },
  {
   "cell_type": "code",
   "execution_count": 38,
   "metadata": {},
   "outputs": [],
   "source": [
    "## This function draws the rectangle on the passed image using cursor cordinates ##\n",
    "def draw_rect(event,x,y,flags,params):\n",
    "    \n",
    "    global ix,iy,drawing, pic_name\n",
    "    \n",
    "    img2 = image.copy()\n",
    "    text = '1.Draw a rectangle and press SPACE.'\n",
    "    cv.putText(image, text, org=(10,25), fontFace=font, fontScale=1.5, color= (0,0,255),thickness=2)\n",
    "    text = '2.Only press SPACE if MISSFIT.'\n",
    "    cv.putText(image, text, org=(10,50), fontFace=font, fontScale=1.5, color= (0,0,255),thickness=2)\n",
    "\n",
    "\n",
    "    if event == cv.EVENT_LBUTTONDOWN:\n",
    "        \n",
    "        drawing = True\n",
    "        ix,iy=x,y\n",
    "        \n",
    "    elif event == cv.EVENT_MOUSEMOVE:\n",
    "        \n",
    "        if drawing == True:\n",
    "            global   x1,y1\n",
    "            x1,y1=x,y\n",
    "            #cv.rectangle(image,(ix,iy),(x1,y1),(0,255,0),1)\n",
    "            \n",
    "    elif event == cv.EVENT_LBUTTONUP:\n",
    "        drawing = False\n",
    "        cv.rectangle(image,(ix,iy),(x1,y1),(0,0,255),2)\n",
    "        croped = img2[iy:y1,ix:x1]\n",
    "        cv.imwrite(os.path.join(folder,f\"{pic_name}.jpg\"),croped)\n",
    "        pic_name = pic_name+1"
   ]
  },
  {
   "cell_type": "code",
   "execution_count": 39,
   "metadata": {},
   "outputs": [],
   "source": [
    "## This function help us take cursor input directly from the user ##\n",
    "def mouse(image):\n",
    "    cv.namedWindow(\"face_crop\") # A window will appear with name \"face_crop\"\n",
    "\n",
    "\n",
    "    cv.setMouseCallback(\"face_crop\",draw_rect) # Window named \"face_crop\" is passed to function draw_rect\n",
    "\n",
    "    while True:\n",
    "\n",
    "        cv.imshow('face_crop',image)\n",
    "        \n",
    "        key = cv.waitKey(1) & 0xFF\n",
    "        if key == ord(' '):\n",
    "            break\n",
    "    \n",
    "    cv.destroyAllWindows()\n",
    "    "
   ]
  },
  {
   "cell_type": "markdown",
   "metadata": {},
   "source": [
    "ALGORITHM FOR CREATING FINAL DATASET \n",
    "-\n",
    "- \n",
    "A nested loop iterates over every image of every folder from 'raw_data'\n",
    "- \n",
    "It creates subfolders in 'dataset' with the same name as in 'raw_data' folder"
   ]
  },
  {
   "cell_type": "code",
   "execution_count": 40,
   "metadata": {},
   "outputs": [],
   "source": [
    "## First for loop iterates over every folder in the \"raw_data\" ##\n",
    "for name in os.listdir(raw_data):\n",
    "    folder = os.path.join(dataset,name)\n",
    "    \n",
    "    ## Creates a subfolder(with same name in raw_data) inside the dataset folder ##\n",
    "    if name not in os.listdir(dataset):\n",
    "        os.mkdir(folder)\n",
    "    pic_name = 1\n",
    "    \n",
    "    ## Second loop iterates over every images in the every subfolder of raw_data ##\n",
    "    for pics in os.listdir(f\"{raw_data}/{name}\"):\n",
    "        \n",
    "        image = cv.imread(f\"{raw_data}/{name}/{pics}\",1) # Reades image in BGR format\n",
    "        global img\n",
    "        img = image.copy() # creating a copy of image\n",
    "        \n",
    "        x,y = 0,0\n",
    "        gimg = cv.cvtColor(image, cv.COLOR_BGR2GRAY) # Converting the image to greyscale\n",
    "        \n",
    "        ## Detects the face and return a tuple of co-ordinates and dimension of face ##\n",
    "        face_rect = face_cascade.detectMultiScale(gimg,scaleFactor = 1.21, minNeighbors = 7)\n",
    "        \n",
    "        ## Checking if the detected face is apropriate ##\n",
    "        if np.shape(face_rect)[0] == 0:\n",
    "            image = cv.resize(img,(500,500))\n",
    "            mouse(image)\n",
    "            continue\n",
    "        elif len(face_rect)>1:\n",
    "            image = cv.resize(img,(500,500))\n",
    "            mouse(image)\n",
    "            continue\n",
    "            \n",
    "        ## Draw a rectangle denoting the detected image ##    \n",
    "        for (x,y,w,h) in face_rect:\n",
    "            cv.rectangle(image, (x,y),(x+w,y+h),(0,255,0),10)\n",
    "            \n",
    "        image = cv.resize(image,(500,500)) # resize the image to constant dimension \n",
    "        \n",
    "        font = cv.FONT_HERSHEY_PLAIN\n",
    "        text1 = '1.Click Space for saving.'\n",
    "        cv.putText(image, text1, org=(10,30), fontFace=font, fontScale=1.5, color= (0,0,255),thickness=2)\n",
    "        text2 = '2.Click N for manual Cropping.'\n",
    "        cv.putText(image, text2, org=(10,50), fontFace=font, fontScale=1.5, color= (0,0,255),thickness=2)\n",
    "        \n",
    "        cv.imshow('pics',image) # Display image\n",
    "        \n",
    "        cropped_image = img[y-1:y+h+1, x-1:x+w] # Cropping out the face from full image\n",
    "        \n",
    "        global key\n",
    "        key = cv.waitKey(0) & 0xFF # taking a input from keyboard as confermation key\n",
    "        \n",
    "        if key == ord(' '):\n",
    "            cv.imwrite(os.path.join(folder,f\"{pic_name}.jpg\"),cropped_image) # Saving the cropped face in dataset folder\n",
    "            pic_name = pic_name+1 #name of the image for convenience\n",
    "        \n",
    "        elif key == ord('n'):\n",
    "            image = cv.resize(img,(500,500))\n",
    "            mouse(image) #calls function for cropping image manually\n",
    "            continue\n",
    "        elif key == ord('c'):\n",
    "            break\n",
    "cv.destroyAllWindows()"
   ]
  },
  {
   "cell_type": "code",
   "execution_count": null,
   "metadata": {},
   "outputs": [],
   "source": []
  },
  {
   "cell_type": "code",
   "execution_count": null,
   "metadata": {},
   "outputs": [],
   "source": []
  }
 ],
 "metadata": {
  "kernelspec": {
   "display_name": "Python 3",
   "language": "python",
   "name": "python3"
  },
  "language_info": {
   "codemirror_mode": {
    "name": "ipython",
    "version": 3
   },
   "file_extension": ".py",
   "mimetype": "text/x-python",
   "name": "python",
   "nbconvert_exporter": "python",
   "pygments_lexer": "ipython3",
   "version": "3.6.10"
  }
 },
 "nbformat": 4,
 "nbformat_minor": 4
}
